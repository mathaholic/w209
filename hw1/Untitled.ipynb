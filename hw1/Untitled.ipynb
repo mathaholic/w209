{
 "cells": [
  {
   "cell_type": "code",
   "execution_count": 1,
   "metadata": {
    "collapsed": true
   },
   "outputs": [],
   "source": [
    "import pandas as pd\n",
    "df = pd.read_csv('testw209hw1.tsv', sep = '\\t')"
   ]
  },
  {
   "cell_type": "code",
   "execution_count": 2,
   "metadata": {},
   "outputs": [
    {
     "data": {
      "text/html": [
       "<div>\n",
       "<style>\n",
       "    .dataframe thead tr:only-child th {\n",
       "        text-align: right;\n",
       "    }\n",
       "\n",
       "    .dataframe thead th {\n",
       "        text-align: left;\n",
       "    }\n",
       "\n",
       "    .dataframe tbody tr th {\n",
       "        vertical-align: top;\n",
       "    }\n",
       "</style>\n",
       "<table border=\"1\" class=\"dataframe\">\n",
       "  <thead>\n",
       "    <tr style=\"text-align: right;\">\n",
       "      <th></th>\n",
       "      <th>Month</th>\n",
       "      <th>Week</th>\n",
       "      <th>Steps</th>\n",
       "      <th>Class</th>\n",
       "    </tr>\n",
       "  </thead>\n",
       "  <tbody>\n",
       "    <tr>\n",
       "      <th>0</th>\n",
       "      <td>15-Mar</td>\n",
       "      <td>1</td>\n",
       "      <td>51388</td>\n",
       "      <td>N</td>\n",
       "    </tr>\n",
       "    <tr>\n",
       "      <th>1</th>\n",
       "      <td>15-Mar</td>\n",
       "      <td>2</td>\n",
       "      <td>65680</td>\n",
       "      <td>N</td>\n",
       "    </tr>\n",
       "    <tr>\n",
       "      <th>2</th>\n",
       "      <td>15-Mar</td>\n",
       "      <td>3</td>\n",
       "      <td>65991</td>\n",
       "      <td>N</td>\n",
       "    </tr>\n",
       "    <tr>\n",
       "      <th>3</th>\n",
       "      <td>15-Mar</td>\n",
       "      <td>4</td>\n",
       "      <td>49264</td>\n",
       "      <td>N</td>\n",
       "    </tr>\n",
       "    <tr>\n",
       "      <th>4</th>\n",
       "      <td>15-Apr</td>\n",
       "      <td>1</td>\n",
       "      <td>44496</td>\n",
       "      <td>N</td>\n",
       "    </tr>\n",
       "  </tbody>\n",
       "</table>\n",
       "</div>"
      ],
      "text/plain": [
       "    Month  Week  Steps Class\n",
       "0  15-Mar     1  51388     N\n",
       "1  15-Mar     2  65680     N\n",
       "2  15-Mar     3  65991     N\n",
       "3  15-Mar     4  49264     N\n",
       "4  15-Apr     1  44496     N"
      ]
     },
     "execution_count": 2,
     "metadata": {},
     "output_type": "execute_result"
    }
   ],
   "source": [
    "df.head()"
   ]
  },
  {
   "cell_type": "code",
   "execution_count": 9,
   "metadata": {},
   "outputs": [],
   "source": [
    "df['MonthWeek'] = df[\"Month\"] + '-wk' + df[\"Week\"].map(str)\n"
   ]
  },
  {
   "cell_type": "code",
   "execution_count": 10,
   "metadata": {},
   "outputs": [
    {
     "data": {
      "text/html": [
       "<div>\n",
       "<style>\n",
       "    .dataframe thead tr:only-child th {\n",
       "        text-align: right;\n",
       "    }\n",
       "\n",
       "    .dataframe thead th {\n",
       "        text-align: left;\n",
       "    }\n",
       "\n",
       "    .dataframe tbody tr th {\n",
       "        vertical-align: top;\n",
       "    }\n",
       "</style>\n",
       "<table border=\"1\" class=\"dataframe\">\n",
       "  <thead>\n",
       "    <tr style=\"text-align: right;\">\n",
       "      <th></th>\n",
       "      <th>Month</th>\n",
       "      <th>Week</th>\n",
       "      <th>Steps</th>\n",
       "      <th>Class</th>\n",
       "      <th>MonthWeek</th>\n",
       "    </tr>\n",
       "  </thead>\n",
       "  <tbody>\n",
       "    <tr>\n",
       "      <th>0</th>\n",
       "      <td>15-Mar</td>\n",
       "      <td>1</td>\n",
       "      <td>51388</td>\n",
       "      <td>N</td>\n",
       "      <td>15-Mar-wk1</td>\n",
       "    </tr>\n",
       "    <tr>\n",
       "      <th>1</th>\n",
       "      <td>15-Mar</td>\n",
       "      <td>2</td>\n",
       "      <td>65680</td>\n",
       "      <td>N</td>\n",
       "      <td>15-Mar-wk2</td>\n",
       "    </tr>\n",
       "    <tr>\n",
       "      <th>2</th>\n",
       "      <td>15-Mar</td>\n",
       "      <td>3</td>\n",
       "      <td>65991</td>\n",
       "      <td>N</td>\n",
       "      <td>15-Mar-wk3</td>\n",
       "    </tr>\n",
       "    <tr>\n",
       "      <th>3</th>\n",
       "      <td>15-Mar</td>\n",
       "      <td>4</td>\n",
       "      <td>49264</td>\n",
       "      <td>N</td>\n",
       "      <td>15-Mar-wk4</td>\n",
       "    </tr>\n",
       "    <tr>\n",
       "      <th>4</th>\n",
       "      <td>15-Apr</td>\n",
       "      <td>1</td>\n",
       "      <td>44496</td>\n",
       "      <td>N</td>\n",
       "      <td>15-Apr-wk1</td>\n",
       "    </tr>\n",
       "  </tbody>\n",
       "</table>\n",
       "</div>"
      ],
      "text/plain": [
       "    Month  Week  Steps Class   MonthWeek\n",
       "0  15-Mar     1  51388     N  15-Mar-wk1\n",
       "1  15-Mar     2  65680     N  15-Mar-wk2\n",
       "2  15-Mar     3  65991     N  15-Mar-wk3\n",
       "3  15-Mar     4  49264     N  15-Mar-wk4\n",
       "4  15-Apr     1  44496     N  15-Apr-wk1"
      ]
     },
     "execution_count": 10,
     "metadata": {},
     "output_type": "execute_result"
    }
   ],
   "source": [
    "df.head()"
   ]
  },
  {
   "cell_type": "code",
   "execution_count": 11,
   "metadata": {
    "collapsed": true
   },
   "outputs": [],
   "source": [
    "df1 = df[['MonthWeek', 'Steps', 'Class']]"
   ]
  },
  {
   "cell_type": "code",
   "execution_count": 12,
   "metadata": {},
   "outputs": [
    {
     "data": {
      "text/html": [
       "<div>\n",
       "<style>\n",
       "    .dataframe thead tr:only-child th {\n",
       "        text-align: right;\n",
       "    }\n",
       "\n",
       "    .dataframe thead th {\n",
       "        text-align: left;\n",
       "    }\n",
       "\n",
       "    .dataframe tbody tr th {\n",
       "        vertical-align: top;\n",
       "    }\n",
       "</style>\n",
       "<table border=\"1\" class=\"dataframe\">\n",
       "  <thead>\n",
       "    <tr style=\"text-align: right;\">\n",
       "      <th></th>\n",
       "      <th>MonthWeek</th>\n",
       "      <th>Steps</th>\n",
       "      <th>Class</th>\n",
       "    </tr>\n",
       "  </thead>\n",
       "  <tbody>\n",
       "    <tr>\n",
       "      <th>0</th>\n",
       "      <td>15-Mar-wk1</td>\n",
       "      <td>51388</td>\n",
       "      <td>N</td>\n",
       "    </tr>\n",
       "    <tr>\n",
       "      <th>1</th>\n",
       "      <td>15-Mar-wk2</td>\n",
       "      <td>65680</td>\n",
       "      <td>N</td>\n",
       "    </tr>\n",
       "    <tr>\n",
       "      <th>2</th>\n",
       "      <td>15-Mar-wk3</td>\n",
       "      <td>65991</td>\n",
       "      <td>N</td>\n",
       "    </tr>\n",
       "    <tr>\n",
       "      <th>3</th>\n",
       "      <td>15-Mar-wk4</td>\n",
       "      <td>49264</td>\n",
       "      <td>N</td>\n",
       "    </tr>\n",
       "    <tr>\n",
       "      <th>4</th>\n",
       "      <td>15-Apr-wk1</td>\n",
       "      <td>44496</td>\n",
       "      <td>N</td>\n",
       "    </tr>\n",
       "  </tbody>\n",
       "</table>\n",
       "</div>"
      ],
      "text/plain": [
       "    MonthWeek  Steps Class\n",
       "0  15-Mar-wk1  51388     N\n",
       "1  15-Mar-wk2  65680     N\n",
       "2  15-Mar-wk3  65991     N\n",
       "3  15-Mar-wk4  49264     N\n",
       "4  15-Apr-wk1  44496     N"
      ]
     },
     "execution_count": 12,
     "metadata": {},
     "output_type": "execute_result"
    }
   ],
   "source": [
    "df1.head()"
   ]
  },
  {
   "cell_type": "code",
   "execution_count": 14,
   "metadata": {
    "collapsed": true
   },
   "outputs": [],
   "source": [
    "df1.to_csv('uniquexw209HW.tsv',index=False, sep = '\\t')"
   ]
  },
  {
   "cell_type": "code",
   "execution_count": 15,
   "metadata": {},
   "outputs": [
    {
     "name": "stdout",
     "output_type": "stream",
     "text": [
      "MonthWeek\tSteps\tClass\r\n",
      "15-Mar-wk1\t51388\tN\r\n",
      "15-Mar-wk2\t65680\tN\r\n",
      "15-Mar-wk3\t65991\tN\r\n",
      "15-Mar-wk4\t49264\tN\r\n",
      "15-Apr-wk1\t44496\tN\r\n",
      "15-Apr-wk2\t64845\tN\r\n",
      "15-Apr-wk3\t62070\tN\r\n",
      "15-Apr-wk4\t62909\tN\r\n",
      "15-May-wk1\t71843\tN\r\n"
     ]
    }
   ],
   "source": [
    "!head -10 uniquexw209HW.tsv"
   ]
  },
  {
   "cell_type": "code",
   "execution_count": 16,
   "metadata": {},
   "outputs": [
    {
     "data": {
      "text/plain": [
       "(124, 3)"
      ]
     },
     "execution_count": 16,
     "metadata": {},
     "output_type": "execute_result"
    }
   ],
   "source": [
    "df1.shape"
   ]
  },
  {
   "cell_type": "code",
   "execution_count": null,
   "metadata": {
    "collapsed": true
   },
   "outputs": [],
   "source": []
  }
 ],
 "metadata": {
  "kernelspec": {
   "display_name": "Python 2",
   "language": "python",
   "name": "python2"
  },
  "language_info": {
   "codemirror_mode": {
    "name": "ipython",
    "version": 2
   },
   "file_extension": ".py",
   "mimetype": "text/x-python",
   "name": "python",
   "nbconvert_exporter": "python",
   "pygments_lexer": "ipython2",
   "version": "2.7.13"
  }
 },
 "nbformat": 4,
 "nbformat_minor": 2
}
